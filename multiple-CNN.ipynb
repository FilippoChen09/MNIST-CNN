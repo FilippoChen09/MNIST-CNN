{
  "nbformat": 4,
  "nbformat_minor": 0,
  "metadata": {
    "colab": {
      "name": "多层CNN",
      "provenance": [],
      "authorship_tag": "ABX9TyORtQ84WHCatpChMz0vbzru",
      "include_colab_link": true
    },
    "kernelspec": {
      "name": "python3",
      "display_name": "Python 3"
    },
    "language_info": {
      "name": "python"
    }
  },
  "cells": [
    {
      "cell_type": "markdown",
      "metadata": {
        "id": "view-in-github",
        "colab_type": "text"
      },
      "source": [
        "<a href=\"https://colab.research.google.com/github/FilippoChen09/MNIST-CNN/blob/main/multiple-CNN.ipynb\" target=\"_parent\"><img src=\"https://colab.research.google.com/assets/colab-badge.svg\" alt=\"Open In Colab\"/></a>"
      ]
    },
    {
      "cell_type": "code",
      "execution_count": null,
      "metadata": {
        "id": "AFkjpwqnvPNv",
        "colab": {
          "base_uri": "https://localhost:8080/"
        },
        "outputId": "efafb5d0-0abf-4c79-d95c-22f7859f9670"
      },
      "outputs": [
        {
          "output_type": "stream",
          "name": "stdout",
          "text": [
            "Accuracy on test_set: 95.46 %\n"
          ]
        }
      ],
      "source": [
        "import torch\n",
        "import torchvision\n",
        "\n",
        "# 设置超参数\n",
        "batch_size = 100\n",
        "input_size = 784\n",
        "hidden_size = 1000\n",
        "num_classes = 10\n",
        "num_epochs = 5\n",
        "learning_rate = 0.001\n",
        "\n",
        "device = torch.device('cuda:0' if torch.cuda.is_available() else 'cpu')\n",
        "\n",
        "# 从TorchVision下载MNIST数据集\n",
        "train_dataset = torchvision.datasets.MNIST(root='./data',\n",
        "                                           train=True,\n",
        "                                           transform=torchvision.transforms.ToTensor(),\n",
        "                                           download=True)\n",
        "\n",
        "test_dataset = torchvision.datasets.MNIST(root='./data',\n",
        "                                          train=False,\n",
        "                                          transform=torchvision.transforms.ToTensor())\n",
        "\n",
        "# 使用PyTorch提供的DataLoader，以分批乱序加载数据\n",
        "train_loader = torch.utils.data.DataLoader(dataset=train_dataset,\n",
        "                                           batch_size=batch_size,\n",
        "                                           shuffle=True)\n",
        "\n",
        "test_loader = torch.utils.data.DataLoader(dataset=test_dataset,\n",
        "                                          batch_size=batch_size,\n",
        "                                          shuffle=False)\n",
        "\n",
        "conv_layer_number = 1\n",
        "\n",
        "\n",
        "class NeuralNetwork(torch.nn.Module):\n",
        "    def __init__(self):\n",
        "        super(NeuralNetwork, self).__init__()\n",
        "        self.conv_start = torch.nn.Sequential(\n",
        "            torch.nn.Conv2d(in_channels=1, out_channels=16, kernel_size=3, stride=1, padding=1),\n",
        "            torch.nn.ReLU()\n",
        "        )\n",
        "        # 卷积核大小为3，步长1，填充1则不改变图片尺寸，可直接叠加\n",
        "        self.conv_loop = torch.nn.Sequential(\n",
        "            torch.nn.Conv2d(in_channels=16, out_channels=16, kernel_size=3, stride=1, padding=1),\n",
        "            torch.nn.ReLU()\n",
        "        )\n",
        "        self.conv_end = torch.nn.Sequential(\n",
        "            torch.nn.Conv2d(in_channels=16, out_channels=1, kernel_size=3, stride=1, padding=1),\n",
        "            torch.nn.ReLU()\n",
        "        )\n",
        "\n",
        "        self.fc = torch.nn.Linear(28 * 28, 10)\n",
        "\n",
        "    def forward(self, x):\n",
        "        x = self.conv_start(x)\n",
        "        for i in range(conv_layer_number):\n",
        "            x = self.conv_loop(x)\n",
        "        x = self.conv_end(x)\n",
        "        x = self.fc(x.reshape(-1, 28 * 28))\n",
        "        return x\n",
        "\n",
        "\n",
        "model = NeuralNetwork().to(device)\n",
        "# 设置损失函数和优化器\n",
        "criterion = torch.nn.CrossEntropyLoss()\n",
        "optimizer = torch.optim.Adam(model.parameters(), lr=learning_rate)\n",
        "\n",
        "# 训练模型\n",
        "for epoch in range(num_epochs):\n",
        "    for i, (images, labels) in enumerate(train_loader):\n",
        "        images = images.to(device)\n",
        "        labels = labels.to(device)\n",
        "\n",
        "        outputs = model(images)\n",
        "        loss = criterion(outputs, labels)\n",
        "\n",
        "        # 反向传播算出Loss对各参数的梯度\n",
        "        optimizer.zero_grad()\n",
        "        loss.backward()\n",
        "\n",
        "        # 更新参数\n",
        "        optimizer.step()\n",
        "\n",
        "# 检验模型在测试集上的准确性\n",
        "correct = 0\n",
        "total = 0\n",
        "for images, labels in test_loader:\n",
        "    images = images.to(device)\n",
        "    labels = labels.to(device)\n",
        "    outputs = model(images)\n",
        "    _, predicted = torch.max(outputs, 1)\n",
        "    total += labels.size(0)\n",
        "    correct += (predicted == labels).sum().item()\n",
        "\n",
        "print('Accuracy on test_set: {} %'.format(100 * correct / total))"
      ]
    }
  ]
}